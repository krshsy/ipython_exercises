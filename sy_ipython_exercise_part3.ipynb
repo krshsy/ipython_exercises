{
 "metadata": {
  "name": "sy_ipython_exercise_part3"
 },
 "nbformat": 3,
 "nbformat_minor": 0,
 "worksheets": [
  {
   "cells": [
    {
     "cell_type": "markdown",
     "metadata": {},
     "source": "1. A web application is a browser-based tool used for interactive authoring of documents that combine\nexplanatory text, mathematics, computations and their rich media output"
    },
    {
     "cell_type": "markdown",
     "metadata": {},
     "source": "A notebook documents is a representation of all content visible in the web app; this includes inputs,\noutputs of the computations, explanatory texxt, math, images, and rich media representations."
    },
    {
     "cell_type": "markdown",
     "metadata": {},
     "source": "2.) In a browser, editing for code includes automatic syntax highlighting, indention, and tab comple-\ntion/introspection. It then displays into HTML, LaTeX, PNG, SVG, etc."
    },
    {
     "cell_type": "code",
     "collapsed": false,
     "input": "In [1]: from IPython.display import YouTubeVideo\nYouTubeVideo(\u2019VaV10VNZCLA\u2019)",
     "language": "python",
     "metadata": {},
     "outputs": [
      {
       "ename": "SyntaxError",
       "evalue": "invalid syntax (<ipython-input-1-402ba89e8715>, line 2)",
       "output_type": "pyerr",
       "traceback": [
        "\u001b[0;36m  File \u001b[0;32m\"<ipython-input-1-402ba89e8715>\"\u001b[0;36m, line \u001b[0;32m2\u001b[0m\n\u001b[0;31m    YouTubeVideo(\u2019VaV10VNZCLA\u2019)\u001b[0m\n\u001b[0m                 ^\u001b[0m\n\u001b[0;31mSyntaxError\u001b[0m\u001b[0;31m:\u001b[0m invalid syntax\n"
       ]
      }
     ],
     "prompt_number": 1
    },
    {
     "cell_type": "code",
     "collapsed": false,
     "input": "Out[1]: <IPython.lib.display.YouTubeVideo at 0xb661a0ec>",
     "language": "python",
     "metadata": {},
     "outputs": [
      {
       "ename": "SyntaxError",
       "evalue": "invalid syntax (<ipython-input-2-1142260fdef2>, line 1)",
       "output_type": "pyerr",
       "traceback": [
        "\u001b[0;36m  File \u001b[0;32m\"<ipython-input-2-1142260fdef2>\"\u001b[0;36m, line \u001b[0;32m1\u001b[0m\n\u001b[0;31m    Out[1]: <IPython.lib.display.YouTubeVideo at 0xb661a0ec>\u001b[0m\n\u001b[0m          ^\u001b[0m\n\u001b[0;31mSyntaxError\u001b[0m\u001b[0;31m:\u001b[0m invalid syntax\n"
       ]
      }
     ],
     "prompt_number": 2
    },
    {
     "cell_type": "markdown",
     "metadata": {},
     "source": "4.) JSON (JavaScript Object Notation) is a way to store information in an organized, easy to\naccess and readable manner."
    },
    {
     "cell_type": "markdown",
     "metadata": {},
     "source": "5.) Yes because it is a file that can be edited."
    },
    {
     "cell_type": "markdown",
     "metadata": {},
     "source": "6.) IPython Notebook Viewer(nbviewer) is a service that loads the notebook document from the URL\nand renders it as a static web page."
    },
    {
     "cell_type": "markdown",
     "metadata": {},
     "source": "7.) Type 'ipython notebook' in the terminal."
    },
    {
     "cell_type": "markdown",
     "metadata": {},
     "source": "8.) \u2013port"
    },
    {
     "cell_type": "markdown",
     "metadata": {},
     "source": "9.) \u2013no-browser"
    },
    {
     "cell_type": "markdown",
     "metadata": {},
     "source": "10.) Click the \u201cNew Notebook\u201d button."
    },
    {
     "cell_type": "markdown",
     "metadata": {},
     "source": "11.) Kernel is a program that runs and introspects user\u2019s code. IPython has a kernel for Python code.\nPeople write kernels for other languages."
    },
    {
     "cell_type": "markdown",
     "metadata": {},
     "source": "12.) Notebooks with an active kernel has a \u201cShutdown\u201d button while Notebooks without an active kernel\nhas a \u201cDelete\u201d button."
    },
    {
     "cell_type": "markdown",
     "metadata": {},
     "source": "13.) 2015-02-12 20:59:17.844 [NotebookApp] Kernel started: 1bb2fb8b-ceb7-453a-a57d-44dcd2896374"
    },
    {
     "cell_type": "markdown",
     "metadata": {},
     "source": "14.) ipython qtconsole \u2013existing 87f7d2c0"
    },
    {
     "cell_type": "markdown",
     "metadata": {},
     "source": "15.) Notebook \u2018name\u2019 - Name of the notebook that is displayed on the top of the page and is editable.\nMenu Bar - it presents diferrent options that may be used to manipulate the way the notebook functions.\nToolbar - Gives a quick way of performing most-used operations in the notebook.\nCode cell - Default type of the cell."
    },
    {
     "cell_type": "markdown",
     "metadata": {},
     "source": "16.) A cell is a multi-line text input field"
    },
    {
     "cell_type": "markdown",
     "metadata": {},
     "source": "17.) A cell can be executed by using Shift-Enter or clicking the Play button or Cell->Run in the menu\nbar"
    },
    {
     "cell_type": "markdown",
     "metadata": {},
     "source": "18.) \n-Code cells are cells where the code is entered and allows you to edit and write new code.\n-Markdown cells allows the user to format the text.\n-Text entered in raw cells are not evaluated by the notebook, it is unformatted in any way.\n-Heading cells are used for entering headings in the notebook."
    },
    {
     "cell_type": "code",
     "collapsed": false,
     "input": "In [ ]: from IPython.display import Image\ni = Image(filename=\u2019shut.png\u2019)\ni",
     "language": "python",
     "metadata": {},
     "outputs": [
      {
       "ename": "SyntaxError",
       "evalue": "invalid syntax (<ipython-input-4-db250e026e5b>, line 1)",
       "output_type": "pyerr",
       "traceback": [
        "\u001b[0;36m  File \u001b[0;32m\"<ipython-input-4-db250e026e5b>\"\u001b[0;36m, line \u001b[0;32m1\u001b[0m\n\u001b[0;31m    In [ ]: from IPython.display import Image\u001b[0m\n\u001b[0m         ^\u001b[0m\n\u001b[0;31mSyntaxError\u001b[0m\u001b[0;31m:\u001b[0m invalid syntax\n"
       ]
      }
     ],
     "prompt_number": 4
    },
    {
     "cell_type": "code",
     "collapsed": false,
     "input": "In [ ]: from IPython.display import Image\ni = Image(filename=\u2019pm.png\u2019)\ni",
     "language": "python",
     "metadata": {},
     "outputs": [
      {
       "ename": "SyntaxError",
       "evalue": "invalid syntax (<ipython-input-5-19bef8fe4c7c>, line 1)",
       "output_type": "pyerr",
       "traceback": [
        "\u001b[0;36m  File \u001b[0;32m\"<ipython-input-5-19bef8fe4c7c>\"\u001b[0;36m, line \u001b[0;32m1\u001b[0m\n\u001b[0;31m    In [ ]: from IPython.display import Image\u001b[0m\n\u001b[0m         ^\u001b[0m\n\u001b[0;31mSyntaxError\u001b[0m\u001b[0;31m:\u001b[0m invalid syntax\n"
       ]
      }
     ],
     "prompt_number": 5
    },
    {
     "cell_type": "markdown",
     "metadata": {},
     "source": "21.) Kernel-> Interrupt Ctrl-M I"
    },
    {
     "cell_type": "markdown",
     "metadata": {},
     "source": "22.) Kernel->Restart Ctrl-M"
    },
    {
     "cell_type": "markdown",
     "metadata": {},
     "source": "23.) \n'Shift-enter(Run cell)' executes the code inside the cell the automatically jumps to the next cell.\n'Ctrl-Enter(Run cell in-place)' runs the cell like in the terminal mode.\n'Alt-Enter(Run cell, insert below)' runs the cells and inserts a new cell below the cell being run.\n'Esc' goes to command mode.\n'Enter' inserts a new line."
    },
    {
     "cell_type": "markdown",
     "metadata": {},
     "source": "24.) %matplotlib"
    },
    {
     "cell_type": "markdown",
     "metadata": {},
     "source": "25.) The matplotlib backend"
    },
    {
     "cell_type": "markdown",
     "metadata": {},
     "source": "26.) The gtk backend is a user-interface for matplotlib"
    },
    {
     "cell_type": "markdown",
     "metadata": {},
     "source": "27.) The inline backend"
    },
    {
     "cell_type": "markdown",
     "metadata": {},
     "source": "28.) ipython locate"
    },
    {
     "cell_type": "markdown",
     "metadata": {},
     "source": "29.) ipython profile create"
    },
    {
     "cell_type": "markdown",
     "metadata": {},
     "source": "30.) ipython nbconvert \u2013to FORMAT [filename.ipynb]"
    },
    {
     "cell_type": "markdown",
     "metadata": {},
     "source": "31.) The default output format is HTML"
    },
    {
     "cell_type": "markdown",
     "metadata": {},
     "source": "32.) Latex, slideshow, markdown, RestructuredText(rsT), Python script(py)"
    },
    {
     "cell_type": "markdown",
     "metadata": {},
     "source": "33.) By setting the NotebookApp.password configurable"
    },
    {
     "cell_type": "markdown",
     "metadata": {},
     "source": "34.) IPYthon.lib.security.passwd():"
    },
    {
     "cell_type": "markdown",
     "metadata": {},
     "source": "35.) By setting NotebookApp.password"
    },
    {
     "cell_type": "markdown",
     "metadata": {},
     "source": "36.) It is a good idea to use SSL so that the password is encrypted and is not sent unencrypted by your\nbrowser(which is dangerous)."
    },
    {
     "cell_type": "markdown",
     "metadata": {},
     "source": "37.) openssl req -x509 -nodes -days 365 -newkey rsa:1024 -keyout mycer.pem -out mycert.pem\nThe command above writes the certificate to the same file"
    },
    {
     "cell_type": "markdown",
     "metadata": {},
     "source": "38.) By using the following commands: ipython profile create nbserver"
    },
    {
     "cell_type": "markdown",
     "metadata": {},
     "source": "39.) Unauthorized clients\nUnauthorized engines\nUnauthorized controllers"
    },
    {
     "cell_type": "markdown",
     "metadata": {},
     "source": "40.) The notebook server can be protected by using a simple single password. It can be set as mentioned\nin the above items. The only source for its security is via ssh-tunnel. IPython supports both shell for\nconnections. There is a key necessary to submit a request but due to lack of encryption, it does not provide\na good security if loopback traffic is compromised."
    },
    {
     "cell_type": "code",
     "collapsed": false,
     "input": "",
     "language": "python",
     "metadata": {},
     "outputs": []
    }
   ],
   "metadata": {}
  }
 ]
}